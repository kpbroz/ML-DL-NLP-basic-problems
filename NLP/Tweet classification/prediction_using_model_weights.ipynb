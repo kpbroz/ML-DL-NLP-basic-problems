{
  "nbformat": 4,
  "nbformat_minor": 0,
  "metadata": {
    "colab": {
      "provenance": []
    },
    "kernelspec": {
      "name": "python3",
      "display_name": "Python 3"
    },
    "language_info": {
      "name": "python"
    }
  },
  "cells": [
    {
      "cell_type": "code",
      "execution_count": 2,
      "metadata": {
        "colab": {
          "base_uri": "https://localhost:8080/"
        },
        "id": "WlIVNQWvUjmh",
        "outputId": "460dcbec-0533-4fac-9f12-581645c79179"
      },
      "outputs": [
        {
          "output_type": "stream",
          "name": "stderr",
          "text": [
            "/usr/local/lib/python3.10/dist-packages/keras/src/saving/saving_lib.py:713: UserWarning: Skipping variable loading for optimizer 'adam', because it has 2 variables whereas the saved optimizer has 32 variables. \n",
            "  saveable.load_own_variables(weights_store.get(inner_path))\n"
          ]
        },
        {
          "output_type": "stream",
          "name": "stdout",
          "text": [
            "\u001b[1m1/1\u001b[0m \u001b[32m━━━━━━━━━━━━━━━━━━━━\u001b[0m\u001b[37m\u001b[0m \u001b[1m1s\u001b[0m 964ms/step\n",
            "Raw prediction score: 0.45082414150238037\n",
            "Binary prediction: Not Harmful\n"
          ]
        }
      ],
      "source": [
        "from tensorflow.keras.models import Sequential\n",
        "from tensorflow.keras.layers import Dense, Embedding, LSTM, Bidirectional\n",
        "from transformers import BertTokenizer\n",
        "\n",
        "# 1. Load the tokenizer\n",
        "loaded_tokenizer = BertTokenizer.from_pretrained('bert_tokenizer')\n",
        "\n",
        "# 2. Recreate the model architecture\n",
        "model = Sequential(name=\"tweet-classifier\")\n",
        "model.add(Embedding(len(loaded_tokenizer.get_vocab()), 32))  # Add input_length\n",
        "model.add(Bidirectional(LSTM(32, activation='tanh')))\n",
        "model.add(Dense(128, activation='relu'))\n",
        "model.add(Dense(256, activation='relu'))\n",
        "model.add(Dense(128, activation='relu'))\n",
        "model.add(Dense(1, activation='sigmoid'))\n",
        "\n",
        "# 3. Build the model - either method A or B:\n",
        "\n",
        "# Method A: Build using a dummy input\n",
        "import tensorflow as tf\n",
        "dummy_input = tf.zeros((1, 512))  # Batch size of 1, sequence length of 512\n",
        "_ = model(dummy_input)\n",
        "\n",
        "# OR Method B: Call build explicitly\n",
        "# model.build(input_shape=(None, 512))\n",
        "\n",
        "# 4. Compile the model\n",
        "model.compile(loss='binary_crossentropy', optimizer='adam')\n",
        "\n",
        "# 5. Load weights\n",
        "model.load_weights('tweet_classifier.weights.h5')\n",
        "\n",
        "# 6. Make predictions\n",
        "text = \"osama bin laden\"\n",
        "new_input = loaded_tokenizer(text, padding=True, max_length=512, truncation=True, return_tensors=\"tf\")\n",
        "prediction = model.predict(new_input['input_ids'])\n",
        "\n",
        "print(f\"Raw prediction score: {prediction[0][0]}\")\n",
        "print(f\"Binary prediction: {'Harmful' if prediction[0][0] > 0.5 else 'Not Harmful'}\")"
      ]
    }
  ]
}