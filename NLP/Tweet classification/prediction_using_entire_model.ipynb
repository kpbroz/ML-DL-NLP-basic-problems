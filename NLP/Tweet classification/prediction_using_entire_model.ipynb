{
  "nbformat": 4,
  "nbformat_minor": 0,
  "metadata": {
    "colab": {
      "provenance": []
    },
    "kernelspec": {
      "name": "python3",
      "display_name": "Python 3"
    },
    "language_info": {
      "name": "python"
    }
  },
  "cells": [
    {
      "cell_type": "code",
      "source": [
        "from tensorflow.keras.models import Sequential\n",
        "from transformers import BertTokenizer\n",
        "from tensorflow.keras.models import load_model\n"
      ],
      "metadata": {
        "id": "J2rKepbOWtpf"
      },
      "execution_count": 3,
      "outputs": []
    },
    {
      "cell_type": "code",
      "execution_count": 5,
      "metadata": {
        "colab": {
          "base_uri": "https://localhost:8080/"
        },
        "id": "EYwxFCU8Uno2",
        "outputId": "bd0fc2af-8376-4260-ebf0-ced7dccc47fb"
      },
      "outputs": [
        {
          "output_type": "stream",
          "name": "stdout",
          "text": [
            "\u001b[1m1/1\u001b[0m \u001b[32m━━━━━━━━━━━━━━━━━━━━\u001b[0m\u001b[37m\u001b[0m \u001b[1m1s\u001b[0m 525ms/step\n",
            "Raw prediction score: 0.32183969020843506\n",
            "Binary prediction: Not Harmful\n"
          ]
        }
      ],
      "source": [
        "# Save with .keras extension (recommended for newer versions)\n",
        "# model.save('tweet_classifier_model.keras')\n",
        "\n",
        "# OR save with .h5 extension (older format)\n",
        "# model.save('tweet_classifier_model.h5')\n",
        "\n",
        "# tokenizer.save_pretrained('bert_tokenizer')\n",
        "\n",
        "# To load later:\n",
        "# tokenizer = BertTokenizer.from_pretrained('bert-base-uncased')\n",
        "\n",
        "# Load model (use the same extension you used for saving)\n",
        "loaded_model = load_model('tweet_classifier_model.keras')\n",
        "loaded_tokenizer = BertTokenizer.from_pretrained('bert_tokenizer')\n",
        "\n",
        "# Test prediction\n",
        "text = \"love you\"\n",
        "new_input = loaded_tokenizer(text, padding=True, return_tensors=\"tf\")\n",
        "prediction = loaded_model.predict(new_input['input_ids'])\n",
        "\n",
        "print(f\"Raw prediction score: {prediction[0][0]}\")\n",
        "print(f\"Binary prediction: {'Harmful' if prediction[0][0] > 0.5 else 'Not Harmful'}\")"
      ]
    }
  ]
}